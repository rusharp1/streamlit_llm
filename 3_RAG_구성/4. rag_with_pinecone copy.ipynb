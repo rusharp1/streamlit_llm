{
 "cells": [
  {
   "cell_type": "markdown",
   "id": "a74b6947",
   "metadata": {},
   "source": [
    "1. 문서의 내용을 읽는다.\n",
    "2. 문서를 쪼갠다.\n",
    "    - 토큰수 초과로 답변을 생성하지 못할 수 있음.\n",
    "    - 문서가 길면 답변 생성이 오래걸림\n",
    "3. 임베딩 하여 백터 데이터에 저장 \n",
    "4. 질문이 있을 때, 백터 데이터베이스에 유사도 검색\n",
    "5. 유사도 검색으로 가져온 문서를 LLM 에 질문과 같이 전달."
   ]
  },
  {
   "cell_type": "markdown",
   "id": "35e6fe46",
   "metadata": {},
   "source": [
    "## 1. 문서의 내용을 읽는다."
   ]
  },
  {
   "cell_type": "code",
   "execution_count": 2,
   "id": "30b52ea4",
   "metadata": {},
   "outputs": [
    {
     "data": {
      "text/plain": [
       "1"
      ]
     },
     "execution_count": 2,
     "metadata": {},
     "output_type": "execute_result"
    }
   ],
   "source": [
    "from langchain_community.document_loaders import Docx2txtLoader\n",
    "\n",
    "loader = Docx2txtLoader(\"./tax.docx\")\n",
    "document = loader.load()\n",
    "\n",
    "len(document)"
   ]
  },
  {
   "cell_type": "code",
   "execution_count": 3,
   "id": "93291d0d",
   "metadata": {},
   "outputs": [
    {
     "data": {
      "text/plain": [
       "238228"
      ]
     },
     "execution_count": 3,
     "metadata": {},
     "output_type": "execute_result"
    }
   ],
   "source": [
    "len(document[0].page_content)"
   ]
  },
  {
   "cell_type": "markdown",
   "id": "a655cca0",
   "metadata": {},
   "source": [
    "## 2. 문서를 쪼갠다."
   ]
  },
  {
   "cell_type": "code",
   "execution_count": 4,
   "id": "2cabbfe6",
   "metadata": {},
   "outputs": [
    {
     "data": {
      "text/plain": [
       "168"
      ]
     },
     "execution_count": 4,
     "metadata": {},
     "output_type": "execute_result"
    }
   ],
   "source": [
    "from langchain_text_splitters import RecursiveCharacterTextSplitter\n",
    "\n",
    "text_splitter = RecursiveCharacterTextSplitter(\n",
    "    chunk_size=1500,\n",
    "    chunk_overlap=20\n",
    ")\n",
    "\n",
    "document_list = loader.load_and_split(text_splitter=text_splitter)\n",
    "len(document_list)"
   ]
  },
  {
   "cell_type": "markdown",
   "id": "cd67de10",
   "metadata": {},
   "source": [
    "## 3. 임베딩 하여 백터 데이터에 저장 "
   ]
  },
  {
   "cell_type": "code",
   "execution_count": 5,
   "id": "c9e6b321",
   "metadata": {},
   "outputs": [],
   "source": [
    "from langchain_upstage import UpstageEmbeddings\n",
    "from dotenv import load_dotenv\n",
    "\n",
    "load_dotenv()\n",
    "embeddings = UpstageEmbeddings(model=\"solar-embedding-1-large\") "
   ]
  },
  {
   "cell_type": "code",
   "execution_count": null,
   "id": "e2372189",
   "metadata": {},
   "outputs": [
    {
     "ename": "ValueError",
     "evalue": "Index 'tax-index' not found in your Pinecone project. Did you mean one of the following indexes: tax-index-markdown",
     "output_type": "error",
     "traceback": [
      "\u001b[31m---------------------------------------------------------------------------\u001b[39m",
      "\u001b[31mValueError\u001b[39m                                Traceback (most recent call last)",
      "\u001b[36mCell\u001b[39m\u001b[36m \u001b[39m\u001b[32mIn[7]\u001b[39m\u001b[32m, line 16\u001b[39m\n\u001b[32m     13\u001b[39m pinecone_api_key = os.environ.get(\u001b[33m\"\u001b[39m\u001b[33mPINECONE_API_KEY\u001b[39m\u001b[33m\"\u001b[39m)\n\u001b[32m     14\u001b[39m pc = Pinecone(api_key=pinecone_api_key)\n\u001b[32m---> \u001b[39m\u001b[32m16\u001b[39m database = \u001b[43mPineconeVectorStore\u001b[49m\u001b[43m.\u001b[49m\u001b[43mfrom_existing_index\u001b[49m\u001b[43m(\u001b[49m\n\u001b[32m     17\u001b[39m \u001b[43m    \u001b[49m\u001b[43mindex_name\u001b[49m\u001b[43m=\u001b[49m\u001b[43mindex_name\u001b[49m\u001b[43m,\u001b[49m\n\u001b[32m     18\u001b[39m \u001b[43m    \u001b[49m\u001b[43membedding\u001b[49m\u001b[43m=\u001b[49m\u001b[43membeddings\u001b[49m\n\u001b[32m     19\u001b[39m \u001b[43m)\u001b[49m\n",
      "\u001b[36mFile \u001b[39m\u001b[32mc:\\Users\\owner\\Desktop\\coding\\llm-application\\.venv\\Lib\\site-packages\\langchain_pinecone\\vectorstores.py:972\u001b[39m, in \u001b[36mPineconeVectorStore.from_existing_index\u001b[39m\u001b[34m(cls, index_name, embedding, text_key, namespace, pool_threads)\u001b[39m\n\u001b[32m    962\u001b[39m \u001b[38;5;129m@classmethod\u001b[39m\n\u001b[32m    963\u001b[39m \u001b[38;5;28;01mdef\u001b[39;00m\u001b[38;5;250m \u001b[39m\u001b[34mfrom_existing_index\u001b[39m(\n\u001b[32m    964\u001b[39m     \u001b[38;5;28mcls\u001b[39m,\n\u001b[32m   (...)\u001b[39m\u001b[32m    969\u001b[39m     pool_threads: \u001b[38;5;28mint\u001b[39m = \u001b[32m4\u001b[39m,\n\u001b[32m    970\u001b[39m ) -> PineconeVectorStore:\n\u001b[32m    971\u001b[39m \u001b[38;5;250m    \u001b[39m\u001b[33;03m\"\"\"Load pinecone vectorstore from index name.\"\"\"\u001b[39;00m\n\u001b[32m--> \u001b[39m\u001b[32m972\u001b[39m     pinecone_index = \u001b[38;5;28;43mcls\u001b[39;49m\u001b[43m.\u001b[49m\u001b[43mget_pinecone_index\u001b[49m\u001b[43m(\u001b[49m\u001b[43mindex_name\u001b[49m\u001b[43m,\u001b[49m\u001b[43m \u001b[49m\u001b[43mpool_threads\u001b[49m\u001b[43m)\u001b[49m\n\u001b[32m    973\u001b[39m     \u001b[38;5;28;01mreturn\u001b[39;00m \u001b[38;5;28mcls\u001b[39m(pinecone_index, embedding, text_key, namespace)\n",
      "\u001b[36mFile \u001b[39m\u001b[32mc:\\Users\\owner\\Desktop\\coding\\llm-application\\.venv\\Lib\\site-packages\\langchain_pinecone\\vectorstores.py:856\u001b[39m, in \u001b[36mPineconeVectorStore.get_pinecone_index\u001b[39m\u001b[34m(cls, index_name, pool_threads, pinecone_api_key)\u001b[39m\n\u001b[32m    850\u001b[39m     \u001b[38;5;28;01mraise\u001b[39;00m \u001b[38;5;167;01mValueError\u001b[39;00m(\n\u001b[32m    851\u001b[39m         \u001b[33m\"\u001b[39m\u001b[33mNo active indexes found in your Pinecone project, \u001b[39m\u001b[33m\"\u001b[39m\n\u001b[32m    852\u001b[39m         \u001b[33m\"\u001b[39m\u001b[33mare you sure you\u001b[39m\u001b[33m'\u001b[39m\u001b[33mre using the right Pinecone API key and Environment? \u001b[39m\u001b[33m\"\u001b[39m\n\u001b[32m    853\u001b[39m         \u001b[33m\"\u001b[39m\u001b[33mPlease double check your Pinecone dashboard.\u001b[39m\u001b[33m\"\u001b[39m\n\u001b[32m    854\u001b[39m     )\n\u001b[32m    855\u001b[39m \u001b[38;5;28;01melse\u001b[39;00m:\n\u001b[32m--> \u001b[39m\u001b[32m856\u001b[39m     \u001b[38;5;28;01mraise\u001b[39;00m \u001b[38;5;167;01mValueError\u001b[39;00m(\n\u001b[32m    857\u001b[39m         \u001b[33mf\u001b[39m\u001b[33m\"\u001b[39m\u001b[33mIndex \u001b[39m\u001b[33m'\u001b[39m\u001b[38;5;132;01m{\u001b[39;00mindex_name\u001b[38;5;132;01m}\u001b[39;00m\u001b[33m'\u001b[39m\u001b[33m not found in your Pinecone project. \u001b[39m\u001b[33m\"\u001b[39m\n\u001b[32m    858\u001b[39m         \u001b[33mf\u001b[39m\u001b[33m\"\u001b[39m\u001b[33mDid you mean one of the following indexes: \u001b[39m\u001b[38;5;132;01m{\u001b[39;00m\u001b[33m'\u001b[39m\u001b[33m, \u001b[39m\u001b[33m'\u001b[39m.join(index_names)\u001b[38;5;132;01m}\u001b[39;00m\u001b[33m\"\u001b[39m\n\u001b[32m    859\u001b[39m     )\n\u001b[32m    860\u001b[39m \u001b[38;5;28;01mreturn\u001b[39;00m index\n",
      "\u001b[31mValueError\u001b[39m: Index 'tax-index' not found in your Pinecone project. Did you mean one of the following indexes: tax-index-markdown"
     ]
    }
   ],
   "source": [
    "# %pip install langchain-pinecone\n",
    "\n",
    "from dotenv import load_dotenv\n",
    "import os\n",
    "from pinecone import Pinecone\n",
    "from langchain_pinecone import PineconeVectorStore\n",
    "\n",
    "\n",
    "load_dotenv()\n",
    "index_name = 'tax-index'\n",
    "\n",
    "# Set your Pinecone API key here if not already set\n",
    "pinecone_api_key = os.environ.get(\"PINECONE_API_KEY\")\n",
    "pc = Pinecone(api_key=pinecone_api_key)\n",
    "\n",
    "database = PineconeVectorStore.from_documents(document_list, embeddings, index_name=index_name)"
   ]
  },
  {
   "cell_type": "markdown",
   "id": "afbeab6e",
   "metadata": {},
   "source": [
    "## 4. 질문이 있을 때, 백터 데이터베이스에 유사도 검색"
   ]
  },
  {
   "cell_type": "code",
   "execution_count": 1,
   "id": "b3cec786",
   "metadata": {},
   "outputs": [
    {
     "ename": "NameError",
     "evalue": "name 'database' is not defined",
     "output_type": "error",
     "traceback": [
      "\u001b[31m---------------------------------------------------------------------------\u001b[39m",
      "\u001b[31mNameError\u001b[39m                                 Traceback (most recent call last)",
      "\u001b[36mCell\u001b[39m\u001b[36m \u001b[39m\u001b[32mIn[1]\u001b[39m\u001b[32m, line 2\u001b[39m\n\u001b[32m      1\u001b[39m query = \u001b[33m\"\u001b[39m\u001b[33m연봉 5천만원인 직장인의 소득세는 얼마인가요?\u001b[39m\u001b[33m\"\u001b[39m\n\u001b[32m----> \u001b[39m\u001b[32m2\u001b[39m retriever = \u001b[43mdatabase\u001b[49m.similarity_search(query, k=\u001b[32m3\u001b[39m)\n\u001b[32m      3\u001b[39m \u001b[38;5;28mprint\u001b[39m(retriever)\n",
      "\u001b[31mNameError\u001b[39m: name 'database' is not defined"
     ]
    }
   ],
   "source": [
    "query = \"연봉 5천만원인 직장인의 소득세는 얼마인가요?\"\n",
    "retriever = database.similarity_search(query, k=3)\n",
    "print(retriever)"
   ]
  },
  {
   "cell_type": "markdown",
   "id": "8867c103",
   "metadata": {},
   "source": [
    "## 5. 유사도 검색으로 가져온 문서를 LLM 에 질문과 같이 전달."
   ]
  },
  {
   "cell_type": "code",
   "execution_count": 29,
   "id": "65fa70be",
   "metadata": {},
   "outputs": [],
   "source": [
    "from langchain_upstage import ChatUpstage\n",
    "\n",
    "llm = ChatUpstage()"
   ]
  },
  {
   "cell_type": "code",
   "execution_count": null,
   "id": "2806c3d0",
   "metadata": {},
   "outputs": [
    {
     "name": "stdout",
     "output_type": "stream",
     "text": [
      "{'query': '연봉 5천만원인 직장인의 소득세는 얼마인가요?', 'result': '연봉 5천만원인 직장인의 소득세를 계산하기 위해서는 우선 근로소득공제를 적용해야 합니다. 2024년 기준으로 총급여액 5천만원인 경우 근로소득공제액은 1천2백만원으로 공제 후 근로소득금액은 3천8백만원이 됩니다. 이후 기본공제, 표준세액공제, 근로소득세액공제 등을 적용하여 계산하면, 대략 400만원 초반대의 소득세가 부과됩니다. 그러나 이는 대략적인 계산이며, 실제 소득세는 개인의 상황에 따라 다양한 공제 항목이 적용될 수 있으므로 정확한 금액은 확인할 수 없습니다.'}\n"
     ]
    }
   ],
   "source": [
    "# DB 에 as_retriever 를 사용하여 연결.\n",
    "# as_retriever 는 chroma 뿐만 아니라 다양한 데이터베이스에서 사용할 수 있다.\n",
    "# retrieverQA 를 활용하여 답변 고도화하기\n",
    "from langchain.chains import RetrievalQA\n",
    "qa_chain = RetrievalQA.from_chain_type(\n",
    "    llm, \n",
    "    retriever=database.as_retriever(),\n",
    "    chain_type_kwargs={\"prompt\": prompt}\n",
    ")\n",
    "\n",
    "ai_message = qa_chain.invoke(query)\n",
    "print(ai_message)"
   ]
  },
  {
   "cell_type": "markdown",
   "id": "7794635d",
   "metadata": {},
   "source": [
    " '연봉 5천만원인 직장인의 소득세를 계산하기 위해서는 우선 근로소득공제를 적용해야 합니다. 2024년 기준으로 \n",
    " 총급여액 5천만원인 경우 근로소득공제액은 1천2백만원으로 공제 후 근로소득금액은 3천8백만원이 됩니다. 이후 기본공제, 표준세액공제, 근로소득세액공제 등을 적용하여 계산하면, 대략 400만원 초반대의 소득세가 부과됩니다. 그러나 이는 대략적인 계산이며, 실제 소득세는 개인의 상황에 따라 다양한 공제 항목이 적용될 수 있으므로 정확한 금액은 확인할 수 없습니다.'"
   ]
  }
 ],
 "metadata": {
  "kernelspec": {
   "display_name": ".venv",
   "language": "python",
   "name": "python3"
  },
  "language_info": {
   "codemirror_mode": {
    "name": "ipython",
    "version": 3
   },
   "file_extension": ".py",
   "mimetype": "text/x-python",
   "name": "python",
   "nbconvert_exporter": "python",
   "pygments_lexer": "ipython3",
   "version": "3.12.0"
  }
 },
 "nbformat": 4,
 "nbformat_minor": 5
}
