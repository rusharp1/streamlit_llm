{
 "cells": [
  {
   "cell_type": "markdown",
   "id": "a74b6947",
   "metadata": {},
   "source": [
    "1. 문서의 내용을 읽는다.\n",
    "2. 문서를 쪼갠다.\n",
    "    - 토큰수 초과로 답변을 생성하지 못할 수 있음.\n",
    "    - 문서가 길면 답변 생성이 오래걸림\n",
    "3. 임베딩 하여 백터 데이터에 저장 \n",
    "4. 질문이 있을 때, 백터 데이터베이스에 유사도 검색\n",
    "5. 유사도 검색으로 가져온 문서를 LLM 에 질문과 같이 전달."
   ]
  },
  {
   "cell_type": "markdown",
   "id": "35e6fe46",
   "metadata": {},
   "source": [
    "## 1. 문서의 내용을 읽는다."
   ]
  },
  {
   "cell_type": "code",
   "execution_count": 1,
   "id": "30b52ea4",
   "metadata": {},
   "outputs": [
    {
     "data": {
      "text/plain": [
       "1"
      ]
     },
     "execution_count": 1,
     "metadata": {},
     "output_type": "execute_result"
    }
   ],
   "source": [
    "from langchain_community.document_loaders import Docx2txtLoader\n",
    "\n",
    "loader = Docx2txtLoader(\"./tax_with_markdown.docx\")\n",
    "document = loader.load()\n",
    "\n",
    "len(document)"
   ]
  },
  {
   "cell_type": "code",
   "execution_count": 2,
   "id": "93291d0d",
   "metadata": {},
   "outputs": [
    {
     "data": {
      "text/plain": [
       "290555"
      ]
     },
     "execution_count": 2,
     "metadata": {},
     "output_type": "execute_result"
    }
   ],
   "source": [
    "len(document[0].page_content)"
   ]
  },
  {
   "cell_type": "markdown",
   "id": "a655cca0",
   "metadata": {},
   "source": [
    "## 2. 문서를 쪼갠다."
   ]
  },
  {
   "cell_type": "code",
   "execution_count": 3,
   "id": "2cabbfe6",
   "metadata": {},
   "outputs": [
    {
     "data": {
      "text/plain": [
       "207"
      ]
     },
     "execution_count": 3,
     "metadata": {},
     "output_type": "execute_result"
    }
   ],
   "source": [
    "from langchain_text_splitters import RecursiveCharacterTextSplitter\n",
    "\n",
    "text_splitter = RecursiveCharacterTextSplitter(\n",
    "    chunk_size=1500,\n",
    "    chunk_overlap=20\n",
    ")\n",
    "\n",
    "document_list = loader.load_and_split(text_splitter=text_splitter)\n",
    "len(document_list)"
   ]
  },
  {
   "cell_type": "markdown",
   "id": "cd67de10",
   "metadata": {},
   "source": [
    "## 3. 임베딩 하여 백터 데이터에 저장 "
   ]
  },
  {
   "cell_type": "code",
   "execution_count": 4,
   "id": "c9e6b321",
   "metadata": {},
   "outputs": [],
   "source": [
    "from langchain_upstage import UpstageEmbeddings\n",
    "from dotenv import load_dotenv\n",
    "\n",
    "load_dotenv()\n",
    "embeddings = UpstageEmbeddings(model=\"solar-embedding-1-large\") "
   ]
  },
  {
   "cell_type": "code",
   "execution_count": 5,
   "id": "e2372189",
   "metadata": {},
   "outputs": [],
   "source": [
    "# %pip install langchain-pinecone\n",
    "import os\n",
    "from pinecone import Pinecone\n",
    "from langchain_pinecone import PineconeVectorStore\n",
    "\n",
    "index_name = 'tax-index-markdown'\n",
    "\n",
    "# Set your Pinecone API key here if not already set\n",
    "pinecone_api_key = os.environ.get(\"PINECONE_API_KEY\")\n",
    "pc = Pinecone(api_key=pinecone_api_key)\n",
    "\n",
    "# 데이터 추가하기\n",
    "# database = PineconeVectorStore.from_documents(document_list, embeddings, index_name=index_name)\n",
    "\n",
    "# 데이터베이스가 이미 존재하는 경우\n",
    "database = PineconeVectorStore.from_existing_index(\n",
    "    index_name=index_name,\n",
    "    embedding=embeddings\n",
    ")"
   ]
  },
  {
   "cell_type": "markdown",
   "id": "afbeab6e",
   "metadata": {},
   "source": [
    "## 4. 질문이 있을 때, 백터 데이터베이스에 유사도 검색"
   ]
  },
  {
   "cell_type": "code",
   "execution_count": 6,
   "id": "b3cec786",
   "metadata": {},
   "outputs": [],
   "source": [
    "query = \"연봉 5천만원 직장인 소득세는 얼마인가요?\"\n",
    "retriever = database.as_retriever(search_kwargs={\"k\": 1})"
   ]
  },
  {
   "cell_type": "code",
   "execution_count": 7,
   "id": "4481ee25",
   "metadata": {},
   "outputs": [
    {
     "data": {
      "text/plain": [
       "[Document(id='ed75a997-4a67-424b-9a44-84ea176c12d2', metadata={'source': './tax_with_markdown.docx'}, page_content='제54조의2(공동사업에 대한 소득공제 등 특례) 제51조의3 또는 「조세특례제한법」에 따른 소득공제를 적용하거나 제59조의3에 따른 세액공제를 적용하는 경우 제43조제3항에 따라 소득금액이 주된 공동사업자의 소득금액에 합산과세되는 특수관계인이 지출ㆍ납입ㆍ투자ㆍ출자 등을 한 금액이 있으면 주된 공동사업자의 소득에 합산과세되는 소득금액의 한도에서 주된 공동사업자가 지출ㆍ납입ㆍ투자ㆍ출자 등을 한 금액으로 보아 주된 공동사업자의 합산과세되는 종합소득금액 또는 종합소득산출세액을 계산할 때에 소득공제 또는 세액공제를 받을 수 있다. <개정 2012. 1. 1., 2014. 1. 1.>\\n\\n[전문개정 2009. 12. 31.]\\n\\n[제목개정 2014. 1. 1.]\\n\\n\\n\\n제4절 세액의 계산 <개정 2009. 12. 31.>\\n\\n\\n\\n제1관 세율 <개정 2009. 12. 31.>\\n\\n\\n\\n제55조(세율) ①거주자의 종합소득에 대한 소득세는 해당 연도의 종합소득과세표준에 다음의 세율을 적용하여 계산한 금액(이하 “종합소득산출세액”이라 한다)을 그 세액으로 한다. <개정 2014. 1. 1., 2016. 12. 20., 2017. 12. 19., 2020. 12. 29., 2022. 12. 31.>\\n\\n| 종합소득 과세표준          | 세율                                         |\\n\\n|-------------------|--------------------------------------------|\\n\\n| 1,400만원 이하     | 과세표준의 6퍼센트                             |\\n\\n| 1,400만원 초과     5,000만원 이하     | 84만원 + (1,400만원을 초과하는 금액의 15퍼센트)  |\\n\\n| 5,000만원 초과   8,800만원 이하     | 624만원 + (5,000만원을 초과하는 금액의 24퍼센트) |\\n\\n| 8,800만원 초과 1억5천만원 이하    | 3,706만원 + (8,800만원을 초과하는 금액의 35퍼센트)|\\n\\n| 1억5천만원 초과 3억원 이하         | 3,706만원 + (1억5천만원을 초과하는 금액의 38퍼센트)|\\n\\n| 3억원 초과    5억원 이하         | 9,406만원 + (3억원을 초과하는 금액의 38퍼센트)   |\\n\\n| 5억원 초과      10억원 이하        | 1억 7,406만원 + (5억원을 초과하는 금액의 42퍼센트)|\\n\\n| 10억원 초과        | 3억 8,406만원 + (10억원을 초과하는 금액의 45퍼센트)|\\n\\n\\n\\n\\n\\n② 거주자의 퇴직소득에 대한 소득세는 다음 각 호의 순서에 따라 계산한 금액(이하 “퇴직소득 산출세액”이라 한다)으로 한다.<개정 2013. 1. 1., 2014. 12. 23.>\\n\\n1. 해당 과세기간의 퇴직소득과세표준에 제1항의 세율을 적용하여 계산한 금액\\n\\n2. 제1호의 금액을 12로 나눈 금액에 근속연수를 곱한 금액\\n\\n3. 삭제<2014. 12. 23.>')]"
      ]
     },
     "execution_count": 7,
     "metadata": {},
     "output_type": "execute_result"
    }
   ],
   "source": [
    "retriever.invoke(query)"
   ]
  },
  {
   "cell_type": "markdown",
   "id": "8867c103",
   "metadata": {},
   "source": [
    "## 5. 유사도 검색으로 가져온 문서를 LLM 에 질문과 같이 전달."
   ]
  },
  {
   "cell_type": "markdown",
   "id": "ba97bbfb",
   "metadata": {},
   "source": []
  },
  {
   "cell_type": "code",
   "execution_count": 8,
   "id": "65fa70be",
   "metadata": {},
   "outputs": [
    {
     "name": "stderr",
     "output_type": "stream",
     "text": [
      "c:\\Users\\owner\\Desktop\\coding\\llm-application\\.venv\\Lib\\site-packages\\langsmith\\client.py:272: LangSmithMissingAPIKeyWarning: API key must be provided when using hosted LangSmith API\n",
      "  warnings.warn(\n"
     ]
    }
   ],
   "source": [
    "from langchain_upstage import ChatUpstage\n",
    "from langchain import hub\n",
    "\n",
    "prompt = hub.pull(\"rlm/rag-prompt\")\n",
    "llm = ChatUpstage()"
   ]
  },
  {
   "cell_type": "code",
   "execution_count": 9,
   "id": "2806c3d0",
   "metadata": {},
   "outputs": [
    {
     "name": "stdout",
     "output_type": "stream",
     "text": [
      "{'query': '연봉 5천만원 직장인 소득세는 얼마인가요?', 'result': '연봉 5천만원의 직장인 소득세는 538만원입니다. 이는 5천만원의 10%에 해당하는 5백만원에 누진공제액 52만원을 더한 금액입니다.'}\n"
     ]
    }
   ],
   "source": [
    "# DB 에 as_retriever 를 사용하여 연결.\n",
    "# as_retriever 는 chroma 뿐만 아니라 다양한 데이터베이스에서 사용할 수 있다.\n",
    "from langchain.chains import RetrievalQA\n",
    "qa_chain = RetrievalQA.from_chain_type(\n",
    "    llm, \n",
    "    retriever=retriever,\n",
    "    chain_type_kwargs={\"prompt\": prompt}\n",
    ")\n",
    "\n",
    "ai_message = qa_chain.invoke(query)\n",
    "print(ai_message)"
   ]
  },
  {
   "cell_type": "code",
   "execution_count": 10,
   "id": "1a80659e",
   "metadata": {},
   "outputs": [],
   "source": [
    "# 직장인으로 입력받는 경우, 거주자로 변경하는 chain을 추가한다.\n",
    "\n",
    "from langchain_core.output_parsers import StrOutputParser\n",
    "from langchain_core.prompts import ChatPromptTemplate\n",
    "\n",
    "dictionary = [\"사람을 나타내는 표현은 모두 거주자로 변경해주세요\"]\n",
    "prompt = ChatPromptTemplate.from_template(f\"\"\"\n",
    "                                사용자의 질문을 보고, 우리의 사전을 참고해서 사용자의 질문을 변경해주세요.\n",
    "                                변경할 필요가 없다고 판단되면, 사용자 질문을 변경하지 않아도 됩니다.\n",
    "                                그런 경우에는 질문만 return 해주세요.\n",
    "                                사전: {dictionary}\n",
    "                                질문 : {query}\n",
    "                                \"\"\")\n",
    "\n",
    "dictionary_chain = prompt | llm | StrOutputParser()\n"
   ]
  },
  {
   "cell_type": "code",
   "execution_count": 11,
   "id": "2dab1910",
   "metadata": {},
   "outputs": [
    {
     "name": "stdout",
     "output_type": "stream",
     "text": [
      "연봉 5천만원 직장인 소득세는 얼마인가요?\n",
      "연봉 5천만원 거주자 소득세는 얼마인가요?\n"
     ]
    }
   ],
   "source": [
    "# 수정 코드 (정상 동작)\n",
    "new_question = dictionary_chain.invoke({\"query\": query})\n",
    "print(query)\n",
    "print(new_question)"
   ]
  },
  {
   "cell_type": "code",
   "execution_count": 12,
   "id": "a277500f",
   "metadata": {},
   "outputs": [
    {
     "data": {
      "text/plain": [
       "{'query': '연봉 5천만원 거주자 소득세는 얼마인가요?',\n",
       " 'result': \"연봉 5천만원의 경우, 소득세 과세표준에 따라 세율을 적용하면 됩니다. 5천만원은 '1,400만원 초과 5,000만원 이하' 구간에 해당하여, 84만원 + (1,400만원을 초과하는 금액의 15퍼센트)를 계산하면 됩니다. 따라서, 연봉 5천만원 거주자의 소득세는 5,100,000원입니다.\"}"
      ]
     },
     "execution_count": 12,
     "metadata": {},
     "output_type": "execute_result"
    }
   ],
   "source": [
    "tax_chain = {\"query\": dictionary_chain} | qa_chain\n",
    "ai_response = tax_chain.invoke({\"question\" : query})\n",
    "ai_response"
   ]
  },
  {
   "cell_type": "markdown",
   "id": "7cadefff",
   "metadata": {},
   "source": [
    "{'query': '연봉 5천만원 거주자 소득세는 얼마인가요?',\n",
    " 'result': '연봉 5천만원의 경우, 종합소득 과세표준은 5천만원 초과 8,800만원 이하 구간에 해당합니다. 따라서 624만원 + (5,000만원을 초과하는 금액의 24퍼센트)를 적용하여 계산한 종합소득산출세액을 내야 합니다. 구체적인 계산은 다음과 같습니다. 5천만원에서 5천만원을 초과하는 금액은 0이므로, 624만원이 종합소득산출세액이 됩니다. 그러나 근로소득공제와 세액공제가 적용될 수 있으므로, 정확한 세액은 공제 내역을 확인한 후에 계산해야 합니다.'}"
   ]
  }
 ],
 "metadata": {
  "kernelspec": {
   "display_name": ".venv",
   "language": "python",
   "name": "python3"
  },
  "language_info": {
   "codemirror_mode": {
    "name": "ipython",
    "version": 3
   },
   "file_extension": ".py",
   "mimetype": "text/x-python",
   "name": "python",
   "nbconvert_exporter": "python",
   "pygments_lexer": "ipython3",
   "version": "3.12.0"
  }
 },
 "nbformat": 4,
 "nbformat_minor": 5
}
